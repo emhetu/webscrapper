{
 "cells": [
  {
   "cell_type": "code",
   "execution_count": null,
   "metadata": {
    "collapsed": true
   },
   "outputs": [],
   "source": [
    "import random\n",
    "import csv\n",
    "import nltk\n",
    "import matplotlib.pyplot as plt\n",
    "import pandas as pd\n",
    "import numpy as np\n",
    "from nltk import word_tokenize\n",
    "from nltk.corpus import stopwords\n",
    "from nltk.corpus import movie_reviews\n",
    "with open('Allheadlines.csv') as csvfile:\n",
    "    readCSV = csv.reader(csvfile)\n",
    "    for row in readCSV:\n",
    "        example_text = row[0]\n",
    "        All_lowercase = example_text.lower()\n",
    "        tokenized = word_tokenize(All_lowercase)\n",
    "        stop_words = set(stopwords.words(\"English\"))\n",
    "        filtered_sentence = [w for w in tokenized if not w in stop_words]\n",
    "        all_words =[]\n",
    "        for w in movie_reviews.words()\n",
    "        all_words.append(w.lower())\n",
    "    all_words = nltk.FreqDist(all_words)\n",
    "    \n",
    "    \n",
    "        #print(all_words.most_common(4))\n",
    "        "
   ]
  }
 ],
 "metadata": {
  "kernelspec": {
   "display_name": "Python 3",
   "language": "python",
   "name": "python3"
  },
  "language_info": {
   "codemirror_mode": {
    "name": "ipython",
    "version": 3
   },
   "file_extension": ".py",
   "mimetype": "text/x-python",
   "name": "python",
   "nbconvert_exporter": "python",
   "pygments_lexer": "ipython3",
   "version": "3.6.3"
  }
 },
 "nbformat": 4,
 "nbformat_minor": 2
}
